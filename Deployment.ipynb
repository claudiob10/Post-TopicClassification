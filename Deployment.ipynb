{
 "cells": [
  {
   "cell_type": "markdown",
   "metadata": {},
   "source": [
    "## Deployment Azure"
   ]
  },
  {
   "cell_type": "markdown",
   "metadata": {
    "heading_collapsed": true
   },
   "source": [
    "#### Import Libraries"
   ]
  },
  {
   "cell_type": "code",
   "execution_count": 1,
   "metadata": {
    "hidden": true
   },
   "outputs": [
    {
     "name": "stderr",
     "output_type": "stream",
     "text": [
      "C:\\Users\\Darwoft\\Anaconda3\\envs\\aml\\lib\\site-packages\\sklearn\\externals\\joblib\\__init__.py:15: DeprecationWarning: sklearn.externals.joblib is deprecated in 0.21 and will be removed in 0.23. Please import this functionality directly from joblib, which can be installed with: pip install joblib. If this warning is raised when loading pickled models, you may need to re-serialize those models with scikit-learn 0.21+.\n",
      "  warnings.warn(msg, category=DeprecationWarning)\n"
     ]
    }
   ],
   "source": [
    "import datetime\n",
    "import numpy as np\n",
    "import pandas as pd\n",
    "from sklearn.model_selection import train_test_split\n",
    "from sklearn.linear_model import LinearRegression\n",
    "from sklearn.externals import joblib\n",
    " \n",
    "import azureml.core\n",
    "from azureml.core import Workspace\n",
    "from azureml.core.model import Model\n",
    "from azureml.core import Experiment\n",
    "from azureml.core.webservice import Webservice\n",
    "from azureml.core.image import ContainerImage\n",
    "from azureml.core.webservice import AciWebservice\n",
    "from azureml.core.conda_dependencies import CondaDependencies\n",
    "import warnings\n",
    "warnings.filterwarnings(\"ignore\")"
   ]
  },
  {
   "cell_type": "markdown",
   "metadata": {},
   "source": [
    "#### Deployment"
   ]
  },
  {
   "cell_type": "code",
   "execution_count": 2,
   "metadata": {},
   "outputs": [
    {
     "name": "stdout",
     "output_type": "stream",
     "text": [
      "1.0.39\n"
     ]
    }
   ],
   "source": [
    "#Check Azure ML SDK version\n",
    "print(azureml.core.VERSION)"
   ]
  },
  {
   "cell_type": "code",
   "execution_count": 3,
   "metadata": {},
   "outputs": [],
   "source": [
    "#If you want to create a Azure ML workspace by code\n",
    "\n",
    "\"\"\"ws = Workspace.create(name='salary',\n",
    "                      subscription_id='', \n",
    "                      resource_group='mi2',\n",
    "                      create_resource_group=True,\n",
    "                      location='southeastasia'\n",
    "                     )\n",
    "\"\"\"\n",
    "\n",
    "#If you have already created a Azure ML Workspace and you want to work with it\n",
    "ws= Workspace(subscription_id='2c551064-b082-40a9-b869-5eb2ed9de3c0', \n",
    "          resource_group='SentimentAnalysis', workspace_name='sentiment', auth=None\n",
    "          , _location='southcentralus', _disable_service_check=False)"
   ]
  },
  {
   "cell_type": "code",
   "execution_count": 4,
   "metadata": {},
   "outputs": [],
   "source": [
    "#Write configuration to local file\n",
    "ws.write_config()"
   ]
  },
  {
   "cell_type": "code",
   "execution_count": 5,
   "metadata": {},
   "outputs": [
    {
     "name": "stdout",
     "output_type": "stream",
     "text": [
      "['ofertas']\n"
     ]
    }
   ],
   "source": [
    "#Load and Test the models\n",
    "filename = 'outputs/topicclassifier.pkl'\n",
    "loaded_model=joblib.load(filename)\n",
    "filename = 'outputs/vectorizer.pkl'\n",
    "vectorizer=joblib.load(filename)\n",
    "y=loaded_model.predict(vectorizer.transform([\"Nuestro #Madretón continúa lleno de ofertas y especiales ¡Te esperamos! \"]))\n",
    "print(y)"
   ]
  },
  {
   "cell_type": "code",
   "execution_count": 6,
   "metadata": {},
   "outputs": [
    {
     "name": "stdout",
     "output_type": "stream",
     "text": [
      "Registering model topicclassifier\n",
      "Registering model vectorizer\n"
     ]
    }
   ],
   "source": [
    "# Registering and Serving the Trained Model\n",
    "model1 = Model.register(model_path = \"outputs/topicclassifier.pkl\",\n",
    "                       model_name = \"topicclassifier\",\n",
    "                       tags = {\"key\": \"1\"},\n",
    "                       description = \"topicclassifier\",\n",
    "                       workspace = ws)\n",
    "model2 = Model.register(model_path = \"outputs/vectorizer.pkl\",\n",
    "                       model_name = \"vectorizer\",\n",
    "                       tags = {\"key\": \"1\"},\n",
    "                       description = \"vectorizer\",\n",
    "                       workspace = ws)"
   ]
  },
  {
   "cell_type": "code",
   "execution_count": 7,
   "metadata": {},
   "outputs": [],
   "source": [
    "#Define Azure ML Deploymemt configuration\n",
    "aciconfig = AciWebservice.deploy_configuration(cpu_cores=1, \n",
    "                                               memory_gb=1, \n",
    "                                               tags={\"data\": \"topic\",  \"method\" : \"sklearn\"}, \n",
    "                                               description='Topic Classifier')"
   ]
  },
  {
   "cell_type": "code",
   "execution_count": 8,
   "metadata": {},
   "outputs": [
    {
     "name": "stdout",
     "output_type": "stream",
     "text": [
      "# Conda environment specification. The dependencies defined in this file will\n",
      "\n",
      "# be automatically provisioned for runs with userManagedDependencies=False.\n",
      "\n",
      "\n",
      "# Details about the Conda environment file format:\n",
      "\n",
      "# https://conda.io/docs/user-guide/tasks/manage-environments.html#create-env-file-manually\n",
      "\n",
      "\n",
      "name: project_environment\n",
      "dependencies:\n",
      "  # The python interpreter version.\n",
      "\n",
      "  # Currently Azure ML only supports 3.5.2 and later.\n",
      "\n",
      "- python=3.6.2\n",
      "\n",
      "- pip:\n",
      "    # Required packages for AzureML execution, history, and data preparation.\n",
      "\n",
      "  - azureml-defaults\n",
      "- scikit-learn\n",
      "\n"
     ]
    }
   ],
   "source": [
    "#Create enviroment configuration file\n",
    "topicclassifierenv = CondaDependencies()\n",
    "topicclassifierenv.add_conda_package(\"scikit-learn\")\n",
    " \n",
    "with open(\"topicclassifierenv.yml\",\"w\") as f:\n",
    "    f.write(topicclassifierenv.serialize_to_string())\n",
    "with open(\"topicclassifierenv.yml\",\"r\") as f:\n",
    "    print(f.read())"
   ]
  },
  {
   "cell_type": "code",
   "execution_count": 9,
   "metadata": {},
   "outputs": [
    {
     "name": "stdout",
     "output_type": "stream",
     "text": [
      "Overwriting score.py\n"
     ]
    }
   ],
   "source": [
    "#creates a file called score.py that contains the inference logic for the model\n",
    "%%writefile score.py\n",
    " \n",
    "import json\n",
    "import numpy as np\n",
    "import os\n",
    "import pickle\n",
    "from sklearn.externals import joblib\n",
    "from sklearn.model_selection import train_test_split\n",
    "from sklearn.feature_extraction.text import TfidfVectorizer\n",
    "from sklearn.svm import LinearSVC\n",
    " \n",
    "from azureml.core.model import Model\n",
    " \n",
    "def init():\n",
    "    global topicclassifier,vectorizer\n",
    "    # retrieve the path to the model file using the model name\n",
    "    model_path1 = Model.get_model_path('vectorizer')\n",
    "    model_path2 = Model.get_model_path('topicclassifier')\n",
    "    vectorizer = joblib.load(model_path1)\n",
    "    topicclassifier = joblib.load(model_path2)\n",
    " \n",
    "def run(raw_data):\n",
    "    data =  np.array(json.loads(raw_data)['data'])\n",
    "    # make prediction\n",
    "    y_hat = topicclassifier.predict(vectorizer.transform(data))\n",
    "    return json.dumps(y_hat.tolist())"
   ]
  },
  {
   "cell_type": "code",
   "execution_count": 10,
   "metadata": {},
   "outputs": [
    {
     "name": "stdout",
     "output_type": "stream",
     "text": [
      "Wall time: 2.86 ms\n"
     ]
    }
   ],
   "source": [
    "#Deploy the model to Azure Container Instance\n",
    "%%time\n",
    " \n",
    "image_config = ContainerImage.image_configuration(execution_script=\"score.py\", \n",
    "                                                  runtime=\"python\", \n",
    "                                                  conda_file=\"topicclassifierenv.yml\")"
   ]
  },
  {
   "cell_type": "code",
   "execution_count": 11,
   "metadata": {},
   "outputs": [
    {
     "name": "stdout",
     "output_type": "stream",
     "text": [
      "Creating image\n",
      "\n",
      "Image creation operation finished for image topicclassifierwebservice:2, operation \"Succeeded\"\n",
      "Creating service\n",
      "Running...................\n",
      "SucceededACI service creation operation finished, operation \"Succeeded\"\n"
     ]
    }
   ],
   "source": [
    "#Expose web service\n",
    "service = Webservice.deploy_from_model(workspace=ws,\n",
    "                                       name='topicclassifierwebservice',\n",
    "                                       deployment_config=aciconfig,\n",
    "                                       models=[model1,model2],\n",
    "                                       image_config=image_config)\n",
    "\n",
    "service.wait_for_deployment(show_output=True)"
   ]
  },
  {
   "cell_type": "code",
   "execution_count": 12,
   "metadata": {},
   "outputs": [
    {
     "name": "stdout",
     "output_type": "stream",
     "text": [
      "http://410ab97b-f7d5-4ed7-8198-e4cbe5b93ef5.westus.azurecontainer.io/score\n"
     ]
    }
   ],
   "source": [
    "#Get the Web Service URL\n",
    "print(service.scoring_uri)"
   ]
  },
  {
   "cell_type": "code",
   "execution_count": 13,
   "metadata": {},
   "outputs": [
    {
     "name": "stdout",
     "output_type": "stream",
     "text": [
      "2019-05-31T14:28:44,212347278+00:00 - nginx/run \n",
      "2019-05-31T14:28:44,214304299+00:00 - rsyslog/run \n",
      "2019-05-31T14:28:44,213708393+00:00 - iot-server/run \n",
      "2019-05-31T14:28:44,218089239+00:00 - gunicorn/run \n",
      "EdgeHubConnectionString and IOTEDGE_IOTHUBHOSTNAME are not set. Exiting...\n",
      "2019-05-31T14:28:44,435933547+00:00 - iot-server/finish 1 0\n",
      "2019-05-31T14:28:44,445037643+00:00 - Exit code 1 is normal. Not restarting iot-server.\n",
      "Starting gunicorn 19.6.0\n",
      "Listening at: http://127.0.0.1:9090 (15)\n",
      "Using worker: sync\n",
      "worker timeout is set to 300\n",
      "Booting worker with pid: 46\n",
      "Initializing logger\n",
      "Starting up app insights client\n",
      "Starting up request id generator\n",
      "Starting up app insight hooks\n",
      "Invoking user's init function\n",
      "2019-05-31 14:28:48,199 | azureml.core.run | DEBUG | Could not load run context Could not load a submitted run, if outside of an execution context, use experiment.start_logging to initialize an azureml.core.Run., switching offline: False\n",
      "2019-05-31 14:28:48,199 | azureml.core.run | DEBUG | Could not load the run context and allow_offline set to False\n",
      "2019-05-31 14:28:48,199 | azureml.core.model | DEBUG | RunEnvironmentException: Could not load a submitted run, if outside of an execution context, use experiment.start_logging to initialize an azureml.core.Run.\n",
      "2019-05-31 14:28:48,199 | azureml.core.model | DEBUG | version is None. Latest version is 2\n",
      "2019-05-31 14:28:48,199 | azureml.core.model | DEBUG | Found model path at azureml-models/vectorizer/2/vectorizer.pkl\n",
      "2019-05-31 14:28:48,199 | azureml.core.run | DEBUG | Could not load run context Could not load a submitted run, if outside of an execution context, use experiment.start_logging to initialize an azureml.core.Run., switching offline: False\n",
      "2019-05-31 14:28:48,199 | azureml.core.run | DEBUG | Could not load the run context and allow_offline set to False\n",
      "2019-05-31 14:28:48,199 | azureml.core.model | DEBUG | RunEnvironmentException: Could not load a submitted run, if outside of an execution context, use experiment.start_logging to initialize an azureml.core.Run.\n",
      "2019-05-31 14:28:48,199 | azureml.core.model | DEBUG | version is None. Latest version is 2\n",
      "2019-05-31 14:28:48,199 | azureml.core.model | DEBUG | Found model path at azureml-models/topicclassifier/2/topicclassifier.pkl\n",
      "/opt/miniconda/lib/python3.6/site-packages/sklearn/externals/joblib/__init__.py:15: DeprecationWarning: sklearn.externals.joblib is deprecated in 0.21 and will be removed in 0.23. Please import this functionality directly from joblib, which can be installed with: pip install joblib. If this warning is raised when loading pickled models, you may need to re-serialize those models with scikit-learn 0.21+.\n",
      "  warnings.warn(msg, category=DeprecationWarning)\n",
      "/opt/miniconda/lib/python3.6/site-packages/sklearn/base.py:306: UserWarning: Trying to unpickle estimator TfidfTransformer from version 0.21.2 when using version 0.21.1. This might lead to breaking code or invalid results. Use at your own risk.\n",
      "  UserWarning)\n",
      "/opt/miniconda/lib/python3.6/site-packages/sklearn/base.py:306: UserWarning: Trying to unpickle estimator TfidfVectorizer from version 0.21.2 when using version 0.21.1. This might lead to breaking code or invalid results. Use at your own risk.\n",
      "  UserWarning)\n",
      "/opt/miniconda/lib/python3.6/site-packages/sklearn/base.py:306: UserWarning: Trying to unpickle estimator LinearSVC from version 0.21.2 when using version 0.21.1. This might lead to breaking code or invalid results. Use at your own risk.\n",
      "  UserWarning)\n",
      "Users's init has completed successfully\n",
      "Scoring timeout setting is not found. Use default timeout: 3600000 ms\n",
      "\n"
     ]
    }
   ],
   "source": [
    "#Check the logging of the service \n",
    "print(service.get_logs())"
   ]
  },
  {
   "cell_type": "code",
   "execution_count": 15,
   "metadata": {},
   "outputs": [
    {
     "name": "stdout",
     "output_type": "stream",
     "text": [
      "\"[\\\"ofertas\\\"]\"\n"
     ]
    }
   ],
   "source": [
    "#To make a request to the RESTful web service\n",
    "\n",
    "import requests\n",
    "import json\n",
    "\n",
    "# URL for the web service\n",
    "scoring_uri =\"http://410ab97b-f7d5-4ed7-8198-e4cbe5b93ef5.westus.azurecontainer.io/score\"\n",
    "\n",
    "# If the service is authenticated, set the key\n",
    "#key = 'salarykeyvault806708ce3c'\n",
    "\n",
    "data = {\"data\": \n",
    "            [\n",
    "                \"Nuestro #Madretón continúa lleno de ofertas y especiales ¡Te esperamos! \"\n",
    "            ]\n",
    "        }\n",
    "\n",
    "# Convert to JSON string\n",
    "input_data = json.dumps(data)\n",
    "\n",
    "# Set the content type\n",
    "headers = { 'Content-Type':'application/json' }\n",
    "\n",
    "# If authentication is enabled, set the authorization header\n",
    "#headers['Authorization']=f'Bearer {key}'\n",
    "# Make the request and display the response\n",
    "\n",
    "resp = requests.post(scoring_uri, input_data,headers=headers)\n",
    "print(resp.text)\n"
   ]
  }
 ],
 "metadata": {
  "kernelspec": {
   "display_name": "Python [conda env:aml] *",
   "language": "python",
   "name": "conda-env-aml-py"
  },
  "language_info": {
   "codemirror_mode": {
    "name": "ipython",
    "version": 3
   },
   "file_extension": ".py",
   "mimetype": "text/x-python",
   "name": "python",
   "nbconvert_exporter": "python",
   "pygments_lexer": "ipython3",
   "version": "3.6.7"
  }
 },
 "nbformat": 4,
 "nbformat_minor": 2
}
