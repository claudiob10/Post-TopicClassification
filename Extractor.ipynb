{
 "cells": [
  {
   "cell_type": "markdown",
   "metadata": {},
   "source": [
    "## Extractor MongoDB a .JSON"
   ]
  },
  {
   "cell_type": "markdown",
   "metadata": {},
   "source": [
    "#### Import Libraries"
   ]
  },
  {
   "cell_type": "code",
   "execution_count": null,
   "metadata": {},
   "outputs": [],
   "source": [
    "from sshtunnel import SSHTunnelForwarder\n",
    "import pymongo\n",
    "import pprint\n",
    "import json\n",
    "from bson import json_util\n",
    "import time\n",
    "import threading"
   ]
  },
  {
   "cell_type": "markdown",
   "metadata": {
    "heading_collapsed": true
   },
   "source": [
    "#### Extractor "
   ]
  },
  {
   "cell_type": "code",
   "execution_count": null,
   "metadata": {
    "hidden": true
   },
   "outputs": [],
   "source": [
    "# Print time before before extract data\n",
    "time1 = time.asctime()\n",
    "print(time1)\n",
    "\n",
    "# Credentials of MongoDB Prod\n",
    "MONGO_HOST = \"50.19.38.200\"\n",
    "MONGO_USER = \"ubuntu\"\n",
    "MONGO_PASS = \"PASSWORD\"\n",
    "PEM = \"D:/Topic Flower/db\"\n",
    "MONGO_DB = \"topicflower_prod\"\n",
    "MONGO_COLLECTION = \"post\"\n",
    "\n",
    "# Define local path\n",
    "path = r'C:\\Users\\Darwoft\\Desktop\\Document Classification\\topics\\\\'\n",
    "\n",
    "\n",
    "def extraer_coleccion(cole):\n",
    "    collection = db[cole]\n",
    "\n",
    "    # NoSql query to MongoDB to extract the first 100.000 post\n",
    "    cursor = collection.find({\"$and\": [{'topic': {\"$ne\": None}}, {\"$or\": [{'twitter': {\"$ne\": None}}, {'data_facebook': {\"$ne\": None}}]}]}, {\n",
    "                             \"brandname\": 1, \"topic\": 1, \"topicname\": 1, \"twitter.posttext\": 1, \"data_facebook.message\": 1}).limit(100000)\n",
    "    texto = '['\n",
    "    for fut in cursor:\n",
    "        texto = texto + json.dumps(fut,  default=json_util.default) + ','\n",
    "    texto = texto[:-1]\n",
    "    texto = texto + ']'\n",
    "    archivo_post = path + str(cole)+'.json'\n",
    "\n",
    "    # Save the query data into a .json file\n",
    "    with open(archivo_post, 'w', encoding='UTF-8') as file:\n",
    "        file.write(texto)\n",
    "    return None\n",
    "\n",
    "\n",
    "# Define SSH Tunnel\n",
    "server = SSHTunnelForwarder(\n",
    "    MONGO_HOST,\n",
    "    ssh_username=MONGO_USER,\n",
    "    ssh_pkey=PEM,\n",
    "    remote_bind_address=('127.0.0.1', 27017)\n",
    ")\n",
    "\n",
    "# Start SSH tunnel\n",
    "server.start()\n",
    "\n",
    "# Server.local_bind_port is assigned local port\n",
    "client = pymongo.MongoClient(\n",
    "    '127.0.0.1', server.local_bind_port, maxPoolSize=50, waitQueueMultiple=10)\n",
    "db = client[MONGO_DB]\n",
    "\n",
    "# call Function to extract Post collection data\n",
    "extraer_coleccion('post')\n",
    "\n",
    "# Close connection\n",
    "client.close()\n",
    "server.stop()\n",
    "time2 = time.asctime()\n",
    "\n",
    "# Print time for the whole process\n",
    "print(time2)"
   ]
  },
  {
   "cell_type": "markdown",
   "metadata": {},
   "source": [
    "## Convert .Json to CSV file"
   ]
  },
  {
   "cell_type": "code",
   "execution_count": null,
   "metadata": {},
   "outputs": [],
   "source": [
    "\"\"\"\n",
    "Before convert the .json to CSV file we need to find and replace the \"data_facebook\":¨{}\n",
    "because to make it work we need to replace it for \"data_facebook\": {\"message\": \"\"}\n",
    "If not we will have a error before convert to CSV file\n",
    "This will be update in the future \n",
    "\"\"\""
   ]
  },
  {
   "cell_type": "markdown",
   "metadata": {},
   "source": [
    "#### Import Libraries"
   ]
  },
  {
   "cell_type": "code",
   "execution_count": null,
   "metadata": {},
   "outputs": [],
   "source": [
    "import pandas as pd\n",
    "import json\n",
    "import re\n",
    "#asd"
   ]
  },
  {
   "cell_type": "markdown",
   "metadata": {},
   "source": [
    "#### Convertor"
   ]
  },
  {
   "cell_type": "code",
   "execution_count": null,
   "metadata": {},
   "outputs": [],
   "source": [
    "# Define Json and CSV files\n",
    "archivo_post = r'C:\\Users\\Darwoft\\Desktop\\Document Classification\\topics\\post.json'\n",
    "archivo_sent = r'C:\\Users\\Darwoft\\Desktop\\Document Classification\\topics\\Topics-text.csv'\n",
    "\n",
    "# Open Json file\n",
    "with open(archivo_post, 'r', encoding='UTF-8') as file:\n",
    "    data = json.load(file)\n",
    "\n",
    "\n",
    "facebooktext = ''\n",
    "twittertext = ''\n",
    "\n",
    "# Define CSV columns\n",
    "texto = \"id,brandname,topic,topicname,twittertext,facebooktext\" + '\\n'\n",
    "\n",
    "for f in data:\n",
    "    try:\n",
    "        ID = f.get('_id').get('$oid')\n",
    "        brandname = f.get('brandname')\n",
    "        topic = f.get('topic')\n",
    "        topic = topic.lower()\n",
    "        topicname = f.get('topicname')\n",
    "        twittertext = f.get('twitter').get('posttext')\n",
    "\n",
    "        # Delete special characters, URL and Tags from the post\n",
    "        twittertext = twittertext.replace(',', '')\n",
    "        twittertext = twittertext.replace('\\n', '')\n",
    "        twittertext = twittertext.replace('\\\"', '')\n",
    "        twittertext = twittertext.replace('\"', '')\n",
    "        twittertext = re.sub(r\"http\\S+\", '', twittertext)\n",
    "        twittertext = re.sub(r\"@\\S+\", '', twittertext)\n",
    "    except:\n",
    "        facebooktext = f.get('data_facebook').get('message')\n",
    "\n",
    "        # Delete special characters, URL and Tags from the post\n",
    "        facebooktext = facebooktext.replace(',', '')\n",
    "        facebooktext = facebooktext.replace('\\n', '')\n",
    "        facebooktext = facebooktext.replace('\\\"', '')\n",
    "        facebooktext = facebooktext.replace('\"', '')\n",
    "        facebooktext = re.sub(r\"http\\S+\", '', facebooktext)\n",
    "        facebooktext = re.sub(r\"@\\S+\", '', facebooktext)\n",
    "\n",
    "    # Create CSV estruture separate by \",\"\n",
    "    texto = texto + str(ID) + \",\" + str(brandname) + \",\" + str(topic) + \",\" + \\\n",
    "        str(topicname) + \",\" + str(twittertext) + \",\" + str(facebooktext)+'\\n'\n",
    "    facebooktext = ''\n",
    "    twittertext = ''\n",
    "\n",
    "# Open and write in the CSV File\n",
    "with open(archivo_sent, 'w', encoding='UTF-8') as file:\n",
    "    file.write(texto)"
   ]
  },
  {
   "cell_type": "markdown",
   "metadata": {
    "heading_collapsed": true
   },
   "source": [
    "## Limpieza y Analisis Dataset"
   ]
  },
  {
   "cell_type": "markdown",
   "metadata": {
    "heading_collapsed": true,
    "hidden": true
   },
   "source": [
    "#### Import Libraries"
   ]
  },
  {
   "cell_type": "code",
   "execution_count": 1,
   "metadata": {
    "hidden": true
   },
   "outputs": [],
   "source": [
    "import pandas as pd"
   ]
  },
  {
   "cell_type": "markdown",
   "metadata": {
    "heading_collapsed": true,
    "hidden": true
   },
   "source": [
    "#### Limpieza Dataset"
   ]
  },
  {
   "cell_type": "code",
   "execution_count": 3,
   "metadata": {
    "hidden": true
   },
   "outputs": [
    {
     "name": "stderr",
     "output_type": "stream",
     "text": [
      "C:\\Users\\Darwoft\\Anaconda3\\lib\\site-packages\\IPython\\core\\interactiveshell.py:3020: DtypeWarning: Columns (9,10,11) have mixed types. Specify dtype option on import or set low_memory=False.\n",
      "  interactivity=interactivity, compiler=compiler, result=result)\n"
     ]
    }
   ],
   "source": [
    "# Import CSV File and combine Twitter post with Faceoobk Post text\n",
    "data = pd.read_csv(\n",
    "    r'C:\\Users\\Darwoft\\Desktop\\Post Classication\\topics\\Topics-text.csv')\n",
    "Post = data.twittertext.fillna(data.facebooktext)"
   ]
  },
  {
   "cell_type": "code",
   "execution_count": 4,
   "metadata": {
    "hidden": true
   },
   "outputs": [
    {
     "data": {
      "text/plain": [
       "(100075, 12)"
      ]
     },
     "execution_count": 4,
     "metadata": {},
     "output_type": "execute_result"
    }
   ],
   "source": [
    "# Tamaño Data, 100075 filas\n",
    "data.shape"
   ]
  },
  {
   "cell_type": "code",
   "execution_count": 5,
   "metadata": {
    "hidden": true
   },
   "outputs": [
    {
     "data": {
      "text/plain": [
       "contenido              4912\n",
       "productos              4013\n",
       "eventos                3563\n",
       "resultados             2242\n",
       "ofertas                1830\n",
       "noticias               1429\n",
       "promociones            1368\n",
       "cloud                  1180\n",
       "product                1142\n",
       "politica               1081\n",
       "bigdataandanalytics    1074\n",
       "thought leadership     1029\n",
       "sucursales              958\n",
       "sociedad                926\n",
       "interaction             852\n",
       "Name: topic, dtype: int64"
      ]
     },
     "execution_count": 5,
     "metadata": {},
     "output_type": "execute_result"
    }
   ],
   "source": [
    "# show the top 15 of topics\n",
    "data['topic'].unique()\n",
    "data.topic.value_counts().head(15)"
   ]
  },
  {
   "cell_type": "code",
   "execution_count": 7,
   "metadata": {
    "hidden": true
   },
   "outputs": [],
   "source": [
    "# Convert CSV to Dataframe with Topic and Post Columns\n",
    "df = pd.DataFrame()\n",
    "df['Topic'] = data['topic']\n",
    "df['Post'] = Post"
   ]
  },
  {
   "cell_type": "code",
   "execution_count": 8,
   "metadata": {
    "hidden": true
   },
   "outputs": [
    {
     "data": {
      "text/plain": [
       "Topic       75\n",
       "Post     13303\n",
       "dtype: int64"
      ]
     },
     "execution_count": 8,
     "metadata": {},
     "output_type": "execute_result"
    }
   ],
   "source": [
    "# Count null values\n",
    "df.isnull().sum()"
   ]
  },
  {
   "cell_type": "code",
   "execution_count": 9,
   "metadata": {
    "hidden": true
   },
   "outputs": [
    {
     "data": {
      "text/plain": [
       "Topic    0\n",
       "Post     0\n",
       "dtype: int64"
      ]
     },
     "execution_count": 9,
     "metadata": {},
     "output_type": "execute_result"
    }
   ],
   "source": [
    "# Drop that null values\n",
    "df_sin_nan = df.dropna(how='any')\n",
    "df_sin_nan.isnull().sum()"
   ]
  },
  {
   "cell_type": "code",
   "execution_count": 10,
   "metadata": {
    "hidden": true
   },
   "outputs": [
    {
     "data": {
      "text/html": [
       "<div>\n",
       "<style scoped>\n",
       "    .dataframe tbody tr th:only-of-type {\n",
       "        vertical-align: middle;\n",
       "    }\n",
       "\n",
       "    .dataframe tbody tr th {\n",
       "        vertical-align: top;\n",
       "    }\n",
       "\n",
       "    .dataframe thead th {\n",
       "        text-align: right;\n",
       "    }\n",
       "</style>\n",
       "<table border=\"1\" class=\"dataframe\">\n",
       "  <thead>\n",
       "    <tr style=\"text-align: right;\">\n",
       "      <th></th>\n",
       "      <th>Topic</th>\n",
       "      <th>Post</th>\n",
       "    </tr>\n",
       "  </thead>\n",
       "  <tbody>\n",
       "    <tr>\n",
       "      <th>0</th>\n",
       "      <td>andinosport</td>\n",
       "      <td>Luz verde para la campaña 2015: Cristina anunc...</td>\n",
       "    </tr>\n",
       "    <tr>\n",
       "      <th>1</th>\n",
       "      <td>andino sport</td>\n",
       "      <td>Boca visita a Estudiantes necesitado de ganar ...</td>\n",
       "    </tr>\n",
       "    <tr>\n",
       "      <th>2</th>\n",
       "      <td>mucho show</td>\n",
       "      <td>Se filtran más fotos prohibidas de famosas</td>\n",
       "    </tr>\n",
       "    <tr>\n",
       "      <th>3</th>\n",
       "      <td>tecno</td>\n",
       "      <td>La tercera edición del Media Party Buenos Aire...</td>\n",
       "    </tr>\n",
       "    <tr>\n",
       "      <th>4</th>\n",
       "      <td>sucursales</td>\n",
       "      <td>Hoy en SAMBIL Santo Domingo y GALERIA 360 labo...</td>\n",
       "    </tr>\n",
       "    <tr>\n",
       "      <th>5</th>\n",
       "      <td>sucursales</td>\n",
       "      <td>Estamos laborando en GALERIA 360 de 9:00 a.m. ...</td>\n",
       "    </tr>\n",
       "    <tr>\n",
       "      <th>6</th>\n",
       "      <td>economía</td>\n",
       "      <td>El 15% de los argentinos hace compras on line</td>\n",
       "    </tr>\n",
       "    <tr>\n",
       "      <th>7</th>\n",
       "      <td>economa</td>\n",
       "      <td>Verallia lanza una nueva botella y la apertura...</td>\n",
       "    </tr>\n",
       "    <tr>\n",
       "      <th>8</th>\n",
       "      <td>cloud</td>\n",
       "      <td>Gracias a #Softlayer expandimos aún más nuestr...</td>\n",
       "    </tr>\n",
       "    <tr>\n",
       "      <th>9</th>\n",
       "      <td>mobile</td>\n",
       "      <td>Cuatro letras para ayudar a tu negocio a crece...</td>\n",
       "    </tr>\n",
       "  </tbody>\n",
       "</table>\n",
       "</div>"
      ],
      "text/plain": [
       "          Topic                                               Post\n",
       "0   andinosport  Luz verde para la campaña 2015: Cristina anunc...\n",
       "1  andino sport  Boca visita a Estudiantes necesitado de ganar ...\n",
       "2    mucho show        Se filtran más fotos prohibidas de famosas \n",
       "3         tecno  La tercera edición del Media Party Buenos Aire...\n",
       "4    sucursales  Hoy en SAMBIL Santo Domingo y GALERIA 360 labo...\n",
       "5    sucursales  Estamos laborando en GALERIA 360 de 9:00 a.m. ...\n",
       "6      economía    El 15% de los argentinos hace compras on line  \n",
       "7       economa  Verallia lanza una nueva botella y la apertura...\n",
       "8         cloud  Gracias a #Softlayer expandimos aún más nuestr...\n",
       "9        mobile  Cuatro letras para ayudar a tu negocio a crece..."
      ]
     },
     "execution_count": 10,
     "metadata": {},
     "output_type": "execute_result"
    }
   ],
   "source": [
    "df_sin_nan.head(10)"
   ]
  },
  {
   "cell_type": "code",
   "execution_count": 11,
   "metadata": {
    "hidden": true
   },
   "outputs": [
    {
     "data": {
      "text/plain": [
       "contenido      4548\n",
       "productos      3511\n",
       "eventos        3402\n",
       "resultados     2242\n",
       "ofertas        1782\n",
       "noticias       1395\n",
       "promociones    1145\n",
       "Name: Topic, dtype: int64"
      ]
     },
     "execution_count": 11,
     "metadata": {},
     "output_type": "execute_result"
    }
   ],
   "source": [
    "# Select 7 top topics to train the model\n",
    "df_modelo = df_sin_nan[df_sin_nan.Topic.isin(\n",
    "    ['contenido', 'productos', 'eventos', 'resultados', 'ofertas', 'noticias', 'promociones'])]\n",
    "df_modelo['Topic'].unique()\n",
    "df_modelo.Topic.value_counts()"
   ]
  },
  {
   "cell_type": "code",
   "execution_count": 12,
   "metadata": {
    "hidden": true
   },
   "outputs": [
    {
     "name": "stderr",
     "output_type": "stream",
     "text": [
      "C:\\Users\\Darwoft\\Anaconda3\\lib\\site-packages\\ipykernel_launcher.py:2: SettingWithCopyWarning: \n",
      "A value is trying to be set on a copy of a slice from a DataFrame.\n",
      "Try using .loc[row_indexer,col_indexer] = value instead\n",
      "\n",
      "See the caveats in the documentation: http://pandas.pydata.org/pandas-docs/stable/indexing.html#indexing-view-versus-copy\n",
      "  \n"
     ]
    },
    {
     "data": {
      "text/html": [
       "<div>\n",
       "<style scoped>\n",
       "    .dataframe tbody tr th:only-of-type {\n",
       "        vertical-align: middle;\n",
       "    }\n",
       "\n",
       "    .dataframe tbody tr th {\n",
       "        vertical-align: top;\n",
       "    }\n",
       "\n",
       "    .dataframe thead th {\n",
       "        text-align: right;\n",
       "    }\n",
       "</style>\n",
       "<table border=\"1\" class=\"dataframe\">\n",
       "  <thead>\n",
       "    <tr style=\"text-align: right;\">\n",
       "      <th></th>\n",
       "      <th>Topic</th>\n",
       "      <th>Post</th>\n",
       "      <th>Topic_ID</th>\n",
       "    </tr>\n",
       "  </thead>\n",
       "  <tbody>\n",
       "    <tr>\n",
       "      <th>45</th>\n",
       "      <td>productos</td>\n",
       "      <td>llsjdlsjdlsjdlsjdlskljdjaldasdllllllllllllllll...</td>\n",
       "      <td>0</td>\n",
       "    </tr>\n",
       "    <tr>\n",
       "      <th>47</th>\n",
       "      <td>contenido</td>\n",
       "      <td>El #veranoclaro se hizo pa' goza. ¡Disfruta rí...</td>\n",
       "      <td>1</td>\n",
       "    </tr>\n",
       "    <tr>\n",
       "      <th>49</th>\n",
       "      <td>productos</td>\n",
       "      <td>Consulta tus productos a través de Internet Ba...</td>\n",
       "      <td>0</td>\n",
       "    </tr>\n",
       "    <tr>\n",
       "      <th>50</th>\n",
       "      <td>productos</td>\n",
       "      <td>Hacer tu compra navideña te sale mejor con tu ...</td>\n",
       "      <td>0</td>\n",
       "    </tr>\n",
       "    <tr>\n",
       "      <th>51</th>\n",
       "      <td>productos</td>\n",
       "      <td>Usa tu Tarjeta Mujer #BHDLeon en salones de be...</td>\n",
       "      <td>0</td>\n",
       "    </tr>\n",
       "    <tr>\n",
       "      <th>63</th>\n",
       "      <td>eventos</td>\n",
       "      <td>Hay momentos se disfrutan mejor con una buena ...</td>\n",
       "      <td>2</td>\n",
       "    </tr>\n",
       "    <tr>\n",
       "      <th>64</th>\n",
       "      <td>eventos</td>\n",
       "      <td>¡Nuestra gerente de compras de decoración hoga...</td>\n",
       "      <td>2</td>\n",
       "    </tr>\n",
       "    <tr>\n",
       "      <th>65</th>\n",
       "      <td>eventos</td>\n",
       "      <td>¡Participa para ganar una lluvia de bonos de R...</td>\n",
       "      <td>2</td>\n",
       "    </tr>\n",
       "    <tr>\n",
       "      <th>66</th>\n",
       "      <td>eventos</td>\n",
       "      <td>¡Disfruta de éste gran espectáculo y llévate u...</td>\n",
       "      <td>2</td>\n",
       "    </tr>\n",
       "    <tr>\n",
       "      <th>67</th>\n",
       "      <td>eventos</td>\n",
       "      <td>¡El Coro Armonía vino a ponernos a bailar en e...</td>\n",
       "      <td>2</td>\n",
       "    </tr>\n",
       "  </tbody>\n",
       "</table>\n",
       "</div>"
      ],
      "text/plain": [
       "        Topic                                               Post  Topic_ID\n",
       "45  productos  llsjdlsjdlsjdlsjdlskljdjaldasdllllllllllllllll...         0\n",
       "47  contenido  El #veranoclaro se hizo pa' goza. ¡Disfruta rí...         1\n",
       "49  productos  Consulta tus productos a través de Internet Ba...         0\n",
       "50  productos  Hacer tu compra navideña te sale mejor con tu ...         0\n",
       "51  productos  Usa tu Tarjeta Mujer #BHDLeon en salones de be...         0\n",
       "63    eventos  Hay momentos se disfrutan mejor con una buena ...         2\n",
       "64    eventos  ¡Nuestra gerente de compras de decoración hoga...         2\n",
       "65    eventos  ¡Participa para ganar una lluvia de bonos de R...         2\n",
       "66    eventos  ¡Disfruta de éste gran espectáculo y llévate u...         2\n",
       "67    eventos  ¡El Coro Armonía vino a ponernos a bailar en e...         2"
      ]
     },
     "execution_count": 12,
     "metadata": {},
     "output_type": "execute_result"
    }
   ],
   "source": [
    "# Factorize the categorizal Data\n",
    "df_modelo['Topic_ID'] = df_modelo['Topic'].factorize()[0]\n",
    "df_modelo.head(10)"
   ]
  },
  {
   "cell_type": "code",
   "execution_count": 14,
   "metadata": {
    "hidden": true
   },
   "outputs": [
    {
     "data": {
      "image/png": "[encoded data removed]",
      "text/plain": [
       "<Figure size 576x432 with 1 Axes>"
      ]
     },
     "metadata": {
      "needs_background": "light"
     },
     "output_type": "display_data"
    }
   ],
   "source": [
    "# Graph the amount of post of each topic\n",
    "import matplotlib.pyplot as plt\n",
    "fig = plt.figure(figsize=(8, 6))\n",
    "df_modelo.groupby('Topic').Post.count().plot.bar(ylim=0)\n",
    "plt.show()"
   ]
  },
  {
   "cell_type": "markdown",
   "metadata": {},
   "source": [
    "## Entrenamiento Modelo ML Lineal SVC"
   ]
  },
  {
   "cell_type": "markdown",
   "metadata": {
    "heading_collapsed": true
   },
   "source": [
    "#### Import libraries"
   ]
  },
  {
   "cell_type": "code",
   "execution_count": 15,
   "metadata": {
    "hidden": true
   },
   "outputs": [],
   "source": [
    "from sklearn.model_selection import train_test_split\n",
    "from sklearn.feature_extraction.text import TfidfVectorizer\n",
    "import nltk\n",
    "from nltk.corpus import stopwords\n",
    "from sklearn.svm import LinearSVC\n",
    "from sklearn.model_selection import GridSearchCV\n",
    "import numpy as np\n",
    "import itertools\n",
    "import matplotlib.pylab as plt\n",
    "from sklearn.metrics import confusion_matrix\n",
    "from sklearn import metrics"
   ]
  },
  {
   "cell_type": "markdown",
   "metadata": {
    "heading_collapsed": true
   },
   "source": [
    "#### Train Model and Statistics"
   ]
  },
  {
   "cell_type": "code",
   "execution_count": 16,
   "metadata": {
    "hidden": true
   },
   "outputs": [],
   "source": [
    "#Split dataframe into 80% train 20 % test\n",
    "X_train, X_test, y_train, y_test = train_test_split(\n",
    "    df_modelo.Post, df_modelo.Topic, test_size=0.20, stratify=df_modelo.Topic, random_state=12)"
   ]
  },
  {
   "cell_type": "code",
   "execution_count": 17,
   "metadata": {
    "hidden": true
   },
   "outputs": [
    {
     "name": "stderr",
     "output_type": "stream",
     "text": [
      "[nltk_data] Downloading package punkt to\n",
      "[nltk_data]     C:\\Users\\Darwoft\\AppData\\Roaming\\nltk_data...\n",
      "[nltk_data]   Package punkt is already up-to-date!\n",
      "[nltk_data] Downloading package stopwords to\n",
      "[nltk_data]     C:\\Users\\Darwoft\\AppData\\Roaming\\nltk_data...\n",
      "[nltk_data]   Package stopwords is already up-to-date!\n"
     ]
    }
   ],
   "source": [
    "#Declare the stopwords to take out before training the model\n",
    "nltk.download('punkt')\n",
    "nltk.download('stopwords')\n",
    "stops = set(stopwords.words('spanish'))"
   ]
  },
  {
   "cell_type": "code",
   "execution_count": 18,
   "metadata": {
    "hidden": true
   },
   "outputs": [],
   "source": [
    "#Vectorize the corpus of data \n",
    "vectorizer = TfidfVectorizer(\n",
    "    analyzer='word', tokenizer=nltk.word_tokenize, stop_words=stops)\n",
    "X_train_v = vectorizer.fit_transform(X_train)\n",
    "X_test_v = vectorizer.transform(X_test)"
   ]
  },
  {
   "cell_type": "code",
   "execution_count": 19,
   "metadata": {
    "hidden": true
   },
   "outputs": [
    {
     "data": {
      "text/plain": [
       "(14420, 26237)"
      ]
     },
     "execution_count": 19,
     "metadata": {},
     "output_type": "execute_result"
    }
   ],
   "source": [
    "X_train_v.shape"
   ]
  },
  {
   "cell_type": "code",
   "execution_count": 20,
   "metadata": {
    "hidden": true
   },
   "outputs": [
    {
     "name": "stderr",
     "output_type": "stream",
     "text": [
      "C:\\Users\\Darwoft\\Anaconda3\\lib\\site-packages\\sklearn\\svm\\base.py:922: ConvergenceWarning: Liblinear failed to converge, increase the number of iterations.\n",
      "  \"the number of iterations.\", ConvergenceWarning)\n"
     ]
    },
    {
     "data": {
      "text/plain": [
       "GridSearchCV(cv=5, error_score='raise-deprecating',\n",
       "       estimator=LinearSVC(C=1.0, class_weight=None, dual=True, fit_intercept=True,\n",
       "     intercept_scaling=1, loss='squared_hinge', max_iter=1000,\n",
       "     multi_class='ovr', penalty='l2', random_state=None, tol=0.0001,\n",
       "     verbose=0),\n",
       "       fit_params=None, iid='warn', n_jobs=None,\n",
       "       param_grid=[{'loss': ['hinge', 'squared_hinge'], 'C': [0.1, 1, 2, 5, 10]}],\n",
       "       pre_dispatch='2*n_jobs', refit=True, return_train_score='warn',\n",
       "       scoring='accuracy', verbose=0)"
      ]
     },
     "execution_count": 20,
     "metadata": {},
     "output_type": "execute_result"
    }
   ],
   "source": [
    "#Declare the ML model and do a Grid search to find the best parameters to obtain the good accuracy\n",
    "svc = LinearSVC()\n",
    "param_grid = [{'loss': ['hinge', 'squared_hinge'], 'C':[0.1, 1, 2, 5, 10]}]\n",
    "grid_search = GridSearchCV(svc, param_grid, cv=5, scoring='accuracy')\n",
    "grid_search.fit(X_train_v, y_train)"
   ]
  },
  {
   "cell_type": "code",
   "execution_count": 21,
   "metadata": {
    "hidden": true
   },
   "outputs": [
    {
     "name": "stdout",
     "output_type": "stream",
     "text": [
      "0.738 (+/-0.003) for {'C': 0.1, 'loss': 'hinge'}\n",
      "0.759 (+/-0.012) for {'C': 0.1, 'loss': 'squared_hinge'}\n",
      "0.787 (+/-0.009) for {'C': 1, 'loss': 'hinge'}\n",
      "0.787 (+/-0.014) for {'C': 1, 'loss': 'squared_hinge'}\n",
      "0.787 (+/-0.010) for {'C': 2, 'loss': 'hinge'}\n",
      "0.782 (+/-0.017) for {'C': 2, 'loss': 'squared_hinge'}\n",
      "0.772 (+/-0.022) for {'C': 5, 'loss': 'hinge'}\n",
      "0.774 (+/-0.021) for {'C': 5, 'loss': 'squared_hinge'}\n",
      "0.765 (+/-0.020) for {'C': 10, 'loss': 'hinge'}\n",
      "0.767 (+/-0.019) for {'C': 10, 'loss': 'squared_hinge'}\n"
     ]
    }
   ],
   "source": [
    "means = grid_search.cv_results_['mean_test_score']\n",
    "stds = grid_search.cv_results_['std_test_score']\n",
    "\n",
    "for mean, std, params in zip(means, stds, grid_search.cv_results_['params']):\n",
    "    print(\"%0.3f (+/-%0.03f) for %r\"\n",
    "          % (mean, std * 2, params))"
   ]
  },
  {
   "cell_type": "code",
   "execution_count": 22,
   "metadata": {
    "hidden": true
   },
   "outputs": [
    {
     "data": {
      "text/plain": [
       "{'C': 1, 'loss': 'squared_hinge'}"
      ]
     },
     "execution_count": 22,
     "metadata": {},
     "output_type": "execute_result"
    }
   ],
   "source": [
    "grid_search.best_params_"
   ]
  },
  {
   "cell_type": "code",
   "execution_count": 23,
   "metadata": {
    "hidden": true
   },
   "outputs": [],
   "source": [
    "#Set up the best parameters\n",
    "optimised_svm = grid_search.best_estimator_"
   ]
  },
  {
   "cell_type": "code",
   "execution_count": 24,
   "metadata": {
    "hidden": true
   },
   "outputs": [
    {
     "name": "stdout",
     "output_type": "stream",
     "text": [
      "['ofertas']\n"
     ]
    }
   ],
   "source": [
    "#Predict a Topic using as input one post from the dataframe\n",
    "print(optimised_svm.predict(vectorizer.transform(\n",
    "    [\"Nuestro #Madretón continúa lleno de ofertas y especiales ¡Te esperamos! \"])))"
   ]
  },
  {
   "cell_type": "code",
   "execution_count": 25,
   "metadata": {
    "hidden": true
   },
   "outputs": [],
   "source": [
    "#Set up a Confusion MAtrix to display the accuracy\n",
    "def plot_confusion_matrix(cm, classes,\n",
    "                          normalize=False,\n",
    "                          title='Confusion matrix',\n",
    "                          cmap=plt.cm.Blues):\n",
    "    \"\"\"\n",
    "    This function prints and plots the confusion matrix.\n",
    "    Normalization can be applied by setting `normalize=True`.\n",
    "    \"\"\"\n",
    "    if normalize:\n",
    "        cm = cm.astype('float') / cm.sum(axis=1)[:, np.newaxis]\n",
    "        print(\"Normalized confusion matrix\")\n",
    "    else:\n",
    "        print('Confusion matrix, without normalization')\n",
    "    plt.imshow(cm, interpolation='nearest', cmap=cmap)\n",
    "    plt.title(title)\n",
    "    plt.colorbar()\n",
    "    tick_marks = np.arange(len(classes))\n",
    "    plt.xticks(tick_marks, classes, rotation=45)\n",
    "    plt.yticks(tick_marks, classes)\n",
    "\n",
    "    fmt = '.2f' if normalize else 'd'\n",
    "    thresh = cm.max() / 2.\n",
    "    for i, j in itertools.product(range(cm.shape[0]), range(cm.shape[1])):\n",
    "        plt.text(j, i, format(cm[i, j], fmt),\n",
    "                 horizontalalignment=\"center\",\n",
    "                 color=\"white\" if cm[i, j] > thresh else \"black\")\n",
    "\n",
    "    plt.tight_layout()\n",
    "    plt.ylabel('True label')\n",
    "    plt.xlabel('Predicted label')\n",
    "    plt.show()"
   ]
  },
  {
   "cell_type": "code",
   "execution_count": 26,
   "metadata": {
    "hidden": true
   },
   "outputs": [
    {
     "name": "stdout",
     "output_type": "stream",
     "text": [
      "Confusion matrix, without normalization\n"
     ]
    },
    {
     "data": {
      "image/png": "[encoded data removed]",
      "text/plain": [
       "<Figure size 432x288 with 2 Axes>"
      ]
     },
     "metadata": {
      "needs_background": "light"
     },
     "output_type": "display_data"
    }
   ],
   "source": [
    "# Show the Confusion MAtrix of the LinealSVC Model\n",
    "y_pred = optimised_svm.predict(X_test_v)\n",
    "cm = plot_confusion_matrix(confusion_matrix(\n",
    "    y_test, y_pred), df_modelo['Topic'].unique())"
   ]
  },
  {
   "cell_type": "code",
   "execution_count": 27,
   "metadata": {
    "hidden": true
   },
   "outputs": [
    {
     "name": "stdout",
     "output_type": "stream",
     "text": [
      "              precision    recall  f1-score   support\n",
      "\n",
      "   productos       0.75      0.80      0.78       910\n",
      "   contenido       0.73      0.79      0.76       680\n",
      "     eventos       0.87      0.72      0.79       279\n",
      "     ofertas       0.84      0.83      0.84       356\n",
      "    noticias       0.80      0.78      0.79       702\n",
      " promociones       0.82      0.59      0.69       229\n",
      "  resultados       0.91      0.96      0.94       449\n",
      "\n",
      "   micro avg       0.80      0.80      0.80      3605\n",
      "   macro avg       0.82      0.78      0.80      3605\n",
      "weighted avg       0.80      0.80      0.80      3605\n",
      "\n"
     ]
    }
   ],
   "source": [
    "#Print metrics of accuracy for each topic and the summary\n",
    "print(metrics.classification_report(y_test, y_pred,\n",
    "                                    target_names=df_modelo['Topic'].unique()))"
   ]
  }
 ],
 "metadata": {
  "kernelspec": {
   "display_name": "Python 3",
   "language": "python",
   "name": "python3"
  },
  "language_info": {
   "codemirror_mode": {
    "name": "ipython",
    "version": 3
   },
   "file_extension": ".py",
   "mimetype": "text/x-python",
   "name": "python",
   "nbconvert_exporter": "python",
   "pygments_lexer": "ipython3",
   "version": "3.7.1"
  }
 },
 "nbformat": 4,
 "nbformat_minor": 2
}
